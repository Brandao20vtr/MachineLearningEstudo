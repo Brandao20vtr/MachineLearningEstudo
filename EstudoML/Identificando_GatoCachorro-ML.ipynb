{
 "cells": [
  {
   "cell_type": "markdown",
   "id": "7de5db68",
   "metadata": {},
   "source": [
    "# Mãos a Obra\n"
   ]
  },
  {
   "cell_type": "markdown",
   "id": "2f9af350",
   "metadata": {},
   "source": [
    "## Definindo, Classificando, Aprendendo, Predizendo e Analisando Resultados\n",
    "\n",
    "<p>Machine Learning é uma técnica de Inteligência Artificial (IA) que permite que a máquina aprenda através de exemplos, exatamente como os seres humanos.</p>\n",
    "\n",
    "* Os emails do Gmail já são classificados automaticamente como <strong>Spam</strong> ou <strong>Não Spam</strong>.<br>\n",
    "* O Facebook já é capaz de identificar o rosto de cada um dos seus amigos e marcá-los automaticamente nas fotos do rolê do final de semana.<br>\n",
    "* Quando você faz uma compra online e recebe sugestões de produtos que foram selecionados por uma máquina que se baseia nas suas escolhas anteriores.\n",
    "\n"
   ]
  },
  {
   "cell_type": "markdown",
   "id": "45f7ba30",
   "metadata": {},
   "source": [
    "# Definição do problema\n",
    "\n",
    "* O que queremos classificar?\n",
    "* Quais características diferenciam o conjunto?\n",
    "* Falsos positivos e falsos negativos\n",
    "* Eliminação de objetos (se não é um gato, então é um cachorro)\n",
    "\n",
    "\n",
    "### Pergunta: você sabe identificar o que é um gato ou um cachorro?\n",
    "\n",
    "<p>Vamos tomar o <strong>gato</strong> como referência!!!</p>\n",
    "<p> A <strong><em>Priori</strong></em> vamos selecionar três gatos para descrever nosso conjunto e tabular três características:</p>\n",
    "\n",
    "<table>\n",
    "    <tr>\n",
    "        <td colspan=\"4\"  align=\"center\">GATOS</td>\n",
    "    </tr>\n",
    "    <tr>\n",
    "        <td>Animal</td>\n",
    "        <td>É fofinho?</td>\n",
    "        <td>Tem orelha pequena?</td>\n",
    "        <td>Faz miau?</td>\n",
    "    </tr>\n",
    "    <tr>\n",
    "        <td>Gato 1</td>\n",
    "        <td align=\"center\">1</td>\n",
    "        <td align=\"center\">1</td>\n",
    "        <td align=\"center\">1</td>\n",
    "    </tr>\n",
    "    <tr>\n",
    "        <td>Gato 2</td>\n",
    "        <td align=\"center\">1</td>\n",
    "        <td align=\"center\">0</td>\n",
    "        <td align=\"center\">1</td>\n",
    "    </tr>\n",
    "    <tr>\n",
    "        <td>Gato 3</td>\n",
    "        <td align=\"center\">0</td>\n",
    "        <td align=\"center\">1</td>\n",
    "        <td align=\"center\">1</td>\n",
    "    </tr>\n",
    "</table>\n",
    "\n",
    "<p>Vamos definir agora nosso cachorros.</p>\n",
    "<table>\n",
    "    <tr>\n",
    "        <td colspan=\"4\"  align=\"center\">CACHORROS</td>\n",
    "    </tr>\n",
    "    <tr>\n",
    "        <td>Animal</td>\n",
    "        <td>É fofinho?</td>\n",
    "        <td>Tem orelha pequena?</td>\n",
    "        <td>Faz miau?</td>\n",
    "    </tr>\n",
    "    <tr>\n",
    "        <td>Cachorro 1</td>\n",
    "        <td align=\"center\">1</td>\n",
    "        <td align=\"center\">1</td>\n",
    "        <td align=\"center\">0</td>\n",
    "    </tr>\n",
    "    <tr>\n",
    "        <td>Cachorro 2</td>\n",
    "        <td align=\"center\">0</td>\n",
    "        <td align=\"center\">1</td>\n",
    "        <td align=\"center\">0</td>\n",
    "    </tr>\n",
    "    <tr>\n",
    "        <td>Cachorro 3</td>\n",
    "        <td align=\"center\">0</td>\n",
    "        <td align=\"center\">1</td>\n",
    "        <td align=\"center\">0</td>\n",
    "    </tr>\n",
    "</table>"
   ]
  },
  {
   "cell_type": "markdown",
   "id": "aac5901b",
   "metadata": {},
   "source": [
    "# Criando uma função\n",
    "Normalmente para modelos de Machine learning é definido (0 e 1), nesse casso irei definir (-1 e 1), sendo: \n",
    "\n",
    "*__-1 para Cachorro__*\n",
    "\n",
    "*__1 para Gato__*"
   ]
  },
  {
   "cell_type": "code",
   "execution_count": 10,
   "id": "d2d9af48",
   "metadata": {},
   "outputs": [],
   "source": [
    "# Criando uma função para lista\n",
    "def legenda(lista):\n",
    "    retorno = []   # Lista vazia\n",
    "    lista_animais = [[-1, 'Cachorro'], [1, 'Gato']]   # Lista para determinar a posição [0] e [1]\n",
    "    \n",
    "    for l in lista:\n",
    "        if l == 1:\n",
    "            retorno.append(lista_animais[0][1])   # Se identificar '1' irá adicionar\n",
    "        else:\n",
    "            retorno.append(lista_animais[1][1])\n",
    "    return retorno"
   ]
  },
  {
   "cell_type": "code",
   "execution_count": 14,
   "id": "418ca9f6",
   "metadata": {},
   "outputs": [
    {
     "data": {
      "text/plain": [
       "['Cachorro', 'Gato', 'Gato']"
      ]
     },
     "execution_count": 14,
     "metadata": {},
     "output_type": "execute_result"
    }
   ],
   "source": [
    "# Mostrando resultado\n",
    "legenda([1, -1, -1])"
   ]
  },
  {
   "cell_type": "code",
   "execution_count": null,
   "id": "df8ead96",
   "metadata": {},
   "outputs": [],
   "source": []
  }
 ],
 "metadata": {
  "kernelspec": {
   "display_name": "Python 3 (ipykernel)",
   "language": "python",
   "name": "python3"
  },
  "language_info": {
   "codemirror_mode": {
    "name": "ipython",
    "version": 3
   },
   "file_extension": ".py",
   "mimetype": "text/x-python",
   "name": "python",
   "nbconvert_exporter": "python",
   "pygments_lexer": "ipython3",
   "version": "3.9.7"
  }
 },
 "nbformat": 4,
 "nbformat_minor": 5
}
