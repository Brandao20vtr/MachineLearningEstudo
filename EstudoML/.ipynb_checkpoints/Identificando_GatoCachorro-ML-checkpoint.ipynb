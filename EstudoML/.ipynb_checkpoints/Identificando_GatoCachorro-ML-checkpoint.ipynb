{
 "cells": [
  {
   "cell_type": "markdown",
   "id": "7de5db68",
   "metadata": {},
   "source": [
    "# Mãos a Obra\n"
   ]
  },
  {
   "cell_type": "markdown",
   "id": "2f9af350",
   "metadata": {},
   "source": [
    "## Definindo, Classificando, Aprendendo, Predizendo e Analisando Resultados\n",
    "\n",
    "<p>Machine Learning é uma técnica de Inteligência Artificial (IA) que permite que a máquina aprenda através de exemplos, exatamente como os seres humanos.</p>\n",
    "\n",
    "* Os emails do Gmail já são classificados automaticamente como <strong>Spam</strong> ou <strong>Não Spam</strong>.<br>\n",
    "* O Facebook já é capaz de identificar o rosto de cada um dos seus amigos e marcá-los automaticamente nas fotos do rolê do final de semana.<br>\n",
    "* Quando você faz uma compra online e recebe sugestões de produtos que foram selecionados por uma máquina que se baseia nas suas escolhas anteriores.\n",
    "\n"
   ]
  },
  {
   "cell_type": "markdown",
   "id": "45f7ba30",
   "metadata": {},
   "source": [
    "# Definição do problema\n",
    "\n",
    "* O que queremos classificar?\n",
    "* Quais características diferenciam o conjunto?\n",
    "* Falsos positivos e falsos negativos\n",
    "* Eliminação de objetos (se não é um gato, então é um cachorro)\n",
    "\n",
    "\n",
    "### Pergunta: você sabe identificar o que é um gato ou um cachorro?\n",
    "\n",
    "<p>Vamos tomar o <strong>gato</strong> como referência!!!</p>\n",
    "<p> A <strong><em>Priori</strong></em> vamos selecionar três gatos para descrever nosso conjunto e tabular três características:</p>\n",
    "\n",
    "<table>\n",
    "    <tr>\n",
    "        <td colspan=\"4\"  align=\"center\">GATOS</td>\n",
    "    </tr>\n",
    "    <tr>\n",
    "        <td>Animal</td>\n",
    "        <td>É fofinho?</td>\n",
    "        <td>Tem orelha pequena?</td>\n",
    "        <td>Faz miau?</td>\n",
    "    </tr>\n",
    "    <tr>\n",
    "        <td>Gato 1</td>\n",
    "        <td align=\"center\">1</td>\n",
    "        <td align=\"center\">1</td>\n",
    "        <td align=\"center\">1</td>\n",
    "    </tr>\n",
    "    <tr>\n",
    "        <td>Gato 2</td>\n",
    "        <td align=\"center\">1</td>\n",
    "        <td align=\"center\">0</td>\n",
    "        <td align=\"center\">1</td>\n",
    "    </tr>\n",
    "    <tr>\n",
    "        <td>Gato 3</td>\n",
    "        <td align=\"center\">0</td>\n",
    "        <td align=\"center\">1</td>\n",
    "        <td align=\"center\">1</td>\n",
    "    </tr>\n",
    "</table>\n",
    "\n",
    "<p>Vamos definir agora nosso cachorros.</p>\n",
    "<table>\n",
    "    <tr>\n",
    "        <td colspan=\"4\"  align=\"center\">CACHORROS</td>\n",
    "    </tr>\n",
    "    <tr>\n",
    "        <td>Animal</td>\n",
    "        <td>É fofinho?</td>\n",
    "        <td>Tem orelha pequena?</td>\n",
    "        <td>Faz miau?</td>\n",
    "    </tr>\n",
    "    <tr>\n",
    "        <td>Cachorro 1</td>\n",
    "        <td align=\"center\">1</td>\n",
    "        <td align=\"center\">1</td>\n",
    "        <td align=\"center\">0</td>\n",
    "    </tr>\n",
    "    <tr>\n",
    "        <td>Cachorro 2</td>\n",
    "        <td align=\"center\">0</td>\n",
    "        <td align=\"center\">1</td>\n",
    "        <td align=\"center\">0</td>\n",
    "    </tr>\n",
    "    <tr>\n",
    "        <td>Cachorro 3</td>\n",
    "        <td align=\"center\">0</td>\n",
    "        <td align=\"center\">1</td>\n",
    "        <td align=\"center\">0</td>\n",
    "    </tr>\n",
    "</table>"
   ]
  },
  {
   "cell_type": "markdown",
   "id": "aac5901b",
   "metadata": {},
   "source": [
    "# Criando uma função\n",
    "Normalmente para modelos de Machine learning é definido (0 e 1), nesse casso irei definir (-1 e 1), sendo: \n",
    "\n",
    "*__-1 para Cachorro__*\n",
    "\n",
    "*__1 para Gato__*"
   ]
  },
  {
   "cell_type": "code",
   "execution_count": 1,
   "id": "d2d9af48",
   "metadata": {},
   "outputs": [],
   "source": [
    "# Criando uma função para lista\n",
    "def legenda(lista):\n",
    "    retorno = []   # Lista vazia\n",
    "    lista_animais = [[-1, 'Cachorro'], [1, 'Gato']]   # Lista para determinar a posição [0] e [1]\n",
    "    \n",
    "    for l in lista:\n",
    "        if l == 1:\n",
    "            retorno.append(lista_animais[0][1])   # Se identificar '1' irá adicionar\n",
    "        else:\n",
    "            retorno.append(lista_animais[1][1])\n",
    "    return retorno"
   ]
  },
  {
   "cell_type": "code",
   "execution_count": 2,
   "id": "418ca9f6",
   "metadata": {},
   "outputs": [
    {
     "data": {
      "text/plain": [
       "['Cachorro', 'Gato', 'Gato']"
      ]
     },
     "execution_count": 2,
     "metadata": {},
     "output_type": "execute_result"
    }
   ],
   "source": [
    "# Mostrando resultado\n",
    "legenda([1, -1, -1])"
   ]
  },
  {
   "cell_type": "markdown",
   "id": "05fefe19",
   "metadata": {},
   "source": [
    "# Montando o problema\n",
    "Transformar a informação em uma estrutura processável."
   ]
  },
  {
   "cell_type": "code",
   "execution_count": 3,
   "id": "ab307e25",
   "metadata": {},
   "outputs": [],
   "source": [
    "# Gatos\n",
    "animal1 = [1, 1, 1]   # Fofinho, tem orelha pequena e faz miau\n",
    "animal2 = [1, 0, 1]   # Fofinho, não tem orelha pequena e faz miau\n",
    "animal3 = [0, 1, 1]   # Não é fofinho, tem orelha pequena e faz miau\n",
    "\n",
    "# Cachorros\n",
    "animal4 = [1, 1, 0]   # Fofinho, tem orelha pequena e não faz miau\n",
    "animal5 = [0, 1, 0]   # Não é fofinho, tem orelha pequena e não faz miau\n",
    "animal6 = [1, 0, 0]   # Fofinho, não tem orelha pequena e não faz miau"
   ]
  },
  {
   "cell_type": "markdown",
   "id": "5d71390c",
   "metadata": {},
   "source": [
    "# Definindo os conjuntos de dados"
   ]
  },
  {
   "cell_type": "code",
   "execution_count": 4,
   "id": "20e90589",
   "metadata": {},
   "outputs": [],
   "source": [
    "# Criando uma lista para colocar todos as variáveis de animais\n",
    "animais = [animal1, animal2, animal3, animal4, animal5, animal6]"
   ]
  },
  {
   "cell_type": "code",
   "execution_count": 5,
   "id": "f5b43010",
   "metadata": {},
   "outputs": [
    {
     "data": {
      "text/plain": [
       "[[1, 1, 1], [1, 0, 1], [0, 1, 1], [1, 1, 0], [0, 1, 0], [1, 0, 0]]"
      ]
     },
     "execution_count": 5,
     "metadata": {},
     "output_type": "execute_result"
    }
   ],
   "source": [
    "# Mostrando a lista dos animais\n",
    "animais"
   ]
  },
  {
   "cell_type": "markdown",
   "id": "ecc221a3",
   "metadata": {},
   "source": [
    "# Informando o algorítmo\n",
    "Quem é Gato e quem é Cachorro na lista\n",
    "\n",
    "__*Gato = 1*__\n",
    "\n",
    "__*Cachorro = -1*__"
   ]
  },
  {
   "cell_type": "code",
   "execution_count": 6,
   "id": "a37f99f0",
   "metadata": {},
   "outputs": [],
   "source": [
    " convencao_animais = [1, 1, 1, -1, -1, -1]"
   ]
  },
  {
   "cell_type": "markdown",
   "id": "c6f62bae",
   "metadata": {},
   "source": [
    "# Aplicando os Modelos de Machine Learning\n",
    "Abosdagens: SVM, Árvore de Decisão, K-Nearest Neighbors, Naive Bayes, entre outros."
   ]
  },
  {
   "cell_type": "code",
   "execution_count": 10,
   "id": "4576384c",
   "metadata": {},
   "outputs": [],
   "source": [
    "# Importando bibliotecas\n",
    "import numpy as np\n",
    "from sklearn.naive_bayes import MultinomialNB   # Vai tentar aprender e identificar os animais"
   ]
  },
  {
   "cell_type": "code",
   "execution_count": null,
   "id": "5530ef2f",
   "metadata": {},
   "outputs": [],
   "source": []
  },
  {
   "cell_type": "code",
   "execution_count": null,
   "id": "93fa8f30",
   "metadata": {},
   "outputs": [],
   "source": []
  },
  {
   "cell_type": "code",
   "execution_count": null,
   "id": "5e738316",
   "metadata": {},
   "outputs": [],
   "source": []
  },
  {
   "cell_type": "code",
   "execution_count": null,
   "id": "d8ed7065",
   "metadata": {},
   "outputs": [],
   "source": []
  },
  {
   "cell_type": "code",
   "execution_count": null,
   "id": "a6425ddd",
   "metadata": {},
   "outputs": [],
   "source": []
  },
  {
   "cell_type": "code",
   "execution_count": null,
   "id": "d079d0ee",
   "metadata": {},
   "outputs": [],
   "source": []
  },
  {
   "cell_type": "code",
   "execution_count": null,
   "id": "d1e1aaa3",
   "metadata": {},
   "outputs": [],
   "source": []
  },
  {
   "cell_type": "code",
   "execution_count": null,
   "id": "e66bd9ae",
   "metadata": {},
   "outputs": [],
   "source": []
  },
  {
   "cell_type": "code",
   "execution_count": null,
   "id": "21fb5098",
   "metadata": {},
   "outputs": [],
   "source": []
  }
 ],
 "metadata": {
  "kernelspec": {
   "display_name": "Python 3 (ipykernel)",
   "language": "python",
   "name": "python3"
  },
  "language_info": {
   "codemirror_mode": {
    "name": "ipython",
    "version": 3
   },
   "file_extension": ".py",
   "mimetype": "text/x-python",
   "name": "python",
   "nbconvert_exporter": "python",
   "pygments_lexer": "ipython3",
   "version": "3.9.7"
  }
 },
 "nbformat": 4,
 "nbformat_minor": 5
}
